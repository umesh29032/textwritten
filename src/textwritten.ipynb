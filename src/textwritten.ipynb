{
 "cells": [
  {
   "cell_type": "code",
   "execution_count": 3,
   "metadata": {},
   "outputs": [
    {
     "name": "stdout",
     "output_type": "stream",
     "text": [
      "Requirement already satisfied: path.py in /home/rudresh-dixit/anaconda3/lib/python3.8/site-packages (12.5.0)\n",
      "Requirement already satisfied: path in /home/rudresh-dixit/anaconda3/lib/python3.8/site-packages (from path.py) (13.1.0)\n",
      "Requirement already satisfied: numpy in /home/rudresh-dixit/anaconda3/lib/python3.8/site-packages (1.18.5)\n",
      "Requirement already satisfied: Pillow in /home/rudresh-dixit/anaconda3/lib/python3.8/site-packages (7.2.0)\n"
     ]
    }
   ],
   "source": [
    "!pip install path.py\n",
    "!pip install numpy\n",
    "!pip install Pillow"
   ]
  },
  {
   "cell_type": "code",
   "execution_count": 4,
   "metadata": {},
   "outputs": [],
   "source": [
    "# module: to interact with the operating system\n",
    "import os\n",
    "\n",
    "# python imaging library: image processing support for python\n",
    "from PIL import Image\n",
    "\n",
    "# numerical python: for fast and efficient processing of arrays\n",
    "import numpy as np"
   ]
  },
  {
   "cell_type": "code",
   "execution_count": 5,
   "metadata": {},
   "outputs": [],
   "source": [
    "## some global variables\n",
    "\n",
    "# BACKGROUND as a plain white image, of standard A4 size\n",
    "BACKGROUND = Image.open(\"background.png\")\n",
    "\n",
    "# dimensions of BACKGROUND\n",
    "PAGE_WIDTH = BACKGROUND.width\n",
    "PAGE_HEIGHT = BACKGROUND.height\n",
    "\n",
    "# X and Y coordinates of BACKGROUND\n",
    "# to insert images of characters at a particular location\n",
    "X = 0\n",
    "Y = 0\n",
    "\n",
    "# maximum width that a character image can have, in pixels\n",
    "MAX_WIDTH_OF_CHAR = 95"
   ]
  },
  {
   "cell_type": "code",
   "execution_count": 6,
   "metadata": {},
   "outputs": [],
   "source": [
    "# function: to open specified text file\n",
    "def open_file(INPUT_FILE):\n",
    "    # open the INPUT_FILE in read mode as file\n",
    "    with open(INPUT_FILE, 'r') as file:\n",
    "        data = file.read()\n",
    "\n",
    "    # convert the data to a numpy array of words delimited by ' '\n",
    "    data = np.array(data.split(' '))\n",
    "    \n",
    "    # return that numpy array\n",
    "    return data"
   ]
  },
  {
   "cell_type": "code",
   "execution_count": 7,
   "metadata": {},
   "outputs": [],
   "source": [
    "# function: paste image of a character on the background at specified location\n",
    "def paste_image(char):\n",
    "    # open the character image\n",
    "    char_image = Image.open('myfont/%s.png' %char)\n",
    "    \n",
    "    global X\n",
    "    global Y\n",
    "    global BACKGROUND\n",
    "\n",
    "    # paste it on background at the specified location\n",
    "    BACKGROUND.paste(char_image, (X, Y))\n",
    "    \n",
    "    # increment the x coordinate by width of character image\n",
    "    X += char_image.width"
   ]
  },
  {
   "cell_type": "code",
   "execution_count": 8,
   "metadata": {},
   "outputs": [],
   "source": [
    "# function: create pdf file from IMAGE_FILE object\n",
    "def create_pdf(IMAGE_FILE, flag=False):\n",
    "    global OUTPUT_FILE\n",
    "    \n",
    "    # white background\n",
    "    rgb = Image.new('RGB', IMAGE_FILE.size, (255, 255, 255)) \n",
    "    \n",
    "    # paste using alpha channel as mask\n",
    "    rgb.paste(IMAGE_FILE, mask=IMAGE_FILE.split()[3])  \n",
    "    \n",
    "    #Now save multiple images in same pdf file, if append option is set to True\n",
    "    rgb.save(OUTPUT_FILE, append=flag)  \n"
   ]
  },
  {
   "cell_type": "code",
   "execution_count": 9,
   "metadata": {},
   "outputs": [],
   "source": [
    "# function: save the page after it is written\n",
    "def save_page(background):\n",
    "    global OUTPUT_FILE\n",
    "    \n",
    "    # if OUTPUT_FILE does not exist, make background the starting of pdf file\n",
    "    if(not os.path.isfile(OUTPUT_FILE)):\n",
    "        create_pdf(background)\n",
    "\n",
    "    # else append background to the OUTPUT_FILE\n",
    "    else:\n",
    "        create_pdf(background, True)"
   ]
  },
  {
   "cell_type": "code",
   "execution_count": 10,
   "metadata": {},
   "outputs": [],
   "source": [
    "# dictionary of special characters\n",
    "# it is better to refer a file as 'comma.png' rather than ',.png'\n",
    "special_chars = {\n",
    "    '.' : 'fullstop',\n",
    "    ',' : 'comma',\n",
    "    '-' : 'hiphen',\n",
    "    '!' : 'exclamation',\n",
    "    '(' : 'parenthesis_open',\n",
    "    ')' : 'parenthesis_closed',\n",
    "    '?' : 'question',\n",
    "    ' ' : 'space'\n",
    "}\n",
    "\n",
    "# list of normal characters that are supported\n",
    "allowed_chars = \"qwertyuiopasdfghjklzxcvbnmQWERTYUIOPASDFGHJKLZXCVBNM1234567890\""
   ]
  },
  {
   "cell_type": "code",
   "execution_count": 1,
   "metadata": {},
   "outputs": [],
   "source": [
    "# function: actual function to convert our data to a pdf file\n",
    "def convert_to_pdf(data):\n",
    "    # traverse each word in the array\n",
    "    for word in data:\n",
    "        global MAX_WIDTH_OF_CHAR\n",
    "        global PAGE_WIDTH\n",
    "        global PAGE_HEIGHT\n",
    "        global BACKGROUND\n",
    "        global X\n",
    "        global Y\n",
    "\n",
    "        # if current word exceeds the width of the page, shift it to starting of next line\n",
    "        # i.e. make x = 0 and increment y += 200(equal to width of the line)\n",
    "        if(X + MAX_WIDTH_OF_CHAR * len(word) > PAGE_WIDTH):\n",
    "            X = 0\n",
    "            Y += 200\n",
    "\n",
    "        # if y exceeds PAGE_HEIGHT, save the page to the OUTPUT_FILE and get a new background\n",
    "        # i.e. blank white paper\n",
    "        if(Y > PAGE_HEIGHT - 200):\n",
    "            # saving the page\n",
    "            save_page(BACKGROUND)\n",
    "\n",
    "            # getting a brand new background\n",
    "            BACKGROUND = Image.open('background.png')\n",
    "\n",
    "            # set values of x and y to the starting of the page\n",
    "            X = 0\n",
    "            Y = 0\n",
    "\n",
    "        for char in word:\n",
    "            # if char is normal one, do nothing\n",
    "            if(char in allowed_chars):\n",
    "                pass\n",
    "\n",
    "            # if char is a new line character, jump to the next line\n",
    "            elif(char == '\\n'):\n",
    "                Y += 200\n",
    "                continue\n",
    "\n",
    "            # if the char is a special character, replace it's name for convinience\n",
    "            # it is better to denote a filename as 'comma.png' rather than ',.png'\n",
    "            elif(char in special_chars.keys()):\n",
    "                char = special_chars[char]\n",
    "            \n",
    "            # if character is not supported by program, like ':', '\"', etc, replace it \n",
    "            # with a space. Will add support of all chars later on\n",
    "            else:\n",
    "                char = \"space\"\n",
    "\n",
    "            # paste the image of the particular character\n",
    "            paste_image(char)\n",
    "\n",
    "        # paste image of 'space' after end of a word\n",
    "        paste_image(\"space\")\n",
    "\n",
    "    # saving the end page\n",
    "    save_page(BACKGROUND)"
   ]
  },
  {
   "cell_type": "code",
   "execution_count": 12,
   "metadata": {},
   "outputs": [],
   "source": [
    "def main():\n",
    "    global INPUT_FILE\n",
    "    global OUTPUT_FILE\n",
    "    \n",
    "    data = open_file(INPUT_FILE)\n",
    "    convert_to_pdf(data)\n",
    "    "
   ]
  },
  {
   "cell_type": "code",
   "execution_count": 13,
   "metadata": {},
   "outputs": [],
   "source": [
    "## modify the INPUT_FILE and OUTPUT_FILE variable as per your own convinience\n",
    "\n",
    "# input text file to be converted to pdf\n",
    "INPUT_FILE = 'hello.txt'\n",
    "\n",
    "# output pdf file\n",
    "OUTPUT_FILE = 'out.pdf'"
   ]
  },
  {
   "cell_type": "code",
   "execution_count": 14,
   "metadata": {},
   "outputs": [],
   "source": [
    "main()"
   ]
  },
  {
   "cell_type": "code",
   "execution_count": null,
   "metadata": {},
   "outputs": [],
   "source": []
  }
 ],
 "metadata": {
  "kernelspec": {
   "display_name": "Python 3",
   "language": "python",
   "name": "python3"
  },
  "language_info": {
   "codemirror_mode": {
    "name": "ipython",
    "version": 3
   },
   "file_extension": ".py",
   "mimetype": "text/x-python",
   "name": "python",
   "nbconvert_exporter": "python",
   "pygments_lexer": "ipython3",
   "version": "3.8.3"
  }
 },
 "nbformat": 4,
 "nbformat_minor": 4
}
